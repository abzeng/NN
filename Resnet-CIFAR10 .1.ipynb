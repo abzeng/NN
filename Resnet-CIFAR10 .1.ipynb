{
 "cells": [
  {
   "cell_type": "code",
   "execution_count": 1,
   "metadata": {},
   "outputs": [],
   "source": [
    "import numpy as np\n",
    "import torch \n",
    "import torch.nn as nn\n",
    "import torch.nn.functional as F\n",
    "from torch.autograd import Variable\n",
    "from torchvision.datasets import CIFAR10"
   ]
  },
  {
   "cell_type": "code",
   "execution_count": 2,
   "metadata": {},
   "outputs": [],
   "source": [
    "class bottleneck(nn.Module):\n",
    "    def __init__(self,in_channel,out_channel,same_shape=True):         #same_shape指x与F（x）规模是否一致，不一致要变成一致\n",
    "        super(bottleneck,self).__init__()\n",
    "        self.same_shape=same_shape\n",
    "        stride=1 if self.same_shape else 2\n",
    "        \n",
    "        self.conv1=nn.Conv2d(in_channel,out_channel,3,stride,padding=1,bias=False)\n",
    "        self.bn1=nn.BatchNorm2d(out_channel)\n",
    "        \n",
    "        self.conv2=nn.Conv2d(out_channel,out_channel,3,1,padding=1,bias=False)\n",
    "        self.bn2=nn.BatchNorm2d(out_channel)\n",
    "        \n",
    "        if not self.same_shape:\n",
    "            self.conv3=nn.Conv2d(in_channel,out_channel,1,stride,padding=0,bias=False)\n",
    "            \n",
    "    def forward(self,x):\n",
    "        out=self.conv1(x)\n",
    "        out=F.relu(self.bn1(out),True)\n",
    "        out=self.conv2(out)\n",
    "        out=F.relu(self.bn2(out),True)\n",
    "        if not self.same_shape:\n",
    "            x=self.conv3(x)\n",
    "        return F.relu(x+out,True)"
   ]
  },
  {
   "cell_type": "code",
   "execution_count": 3,
   "metadata": {},
   "outputs": [
    {
     "name": "stdout",
     "output_type": "stream",
     "text": [
      "torch.Size([1, 32, 96, 96])\n",
      "torch.Size([1, 64, 48, 48])\n"
     ]
    }
   ],
   "source": [
    "test_net=bottleneck(32,64,False)                             #做完一个板块就测试一个板块是否符合要求\n",
    "test_x=Variable(torch.rand(1,32,96,96))\n",
    "print(test_x.size())\n",
    "test_y=test_net(test_x)\n",
    "print(test_y.size())"
   ]
  },
  {
   "cell_type": "code",
   "execution_count": 4,
   "metadata": {},
   "outputs": [],
   "source": [
    "class resnet(nn.Module):\n",
    "    def __init__(self,in_channel,num_classes,verbose=False):\n",
    "        super(resnet,self).__init__()\n",
    "        self.verbose=verbose\n",
    "        \n",
    "        self.block1=nn.Conv2d(in_channel,64,7,2)\n",
    "        \n",
    "        self.block2=nn.Sequential(\n",
    "            nn.MaxPool2d(3,2),\n",
    "            bottleneck(64,64),\n",
    "            bottleneck(64,64)\n",
    "        )\n",
    "        \n",
    "        self.block3=nn.Sequential(\n",
    "            bottleneck(64,128,False),\n",
    "            bottleneck(128,128),\n",
    "            bottleneck(128,128),\n",
    "        )\n",
    "        \n",
    "        self.block4=nn.Sequential(\n",
    "            bottleneck(128,256,False),\n",
    "            bottleneck(256,256),\n",
    "            bottleneck(256,256),\n",
    "        )\n",
    "        \n",
    "        self.block5=nn.Sequential(\n",
    "            bottleneck(256,512,False),\n",
    "            bottleneck(512,512),\n",
    "            nn.AvgPool2d(3)\n",
    "        )\n",
    "        \n",
    "        self.classfy=nn.Linear(512,num_classes)\n",
    "        \n",
    "    def forward(self,x):\n",
    "        x=self.block1(x)\n",
    "        if self.verbose:\n",
    "            print('block 1 output:{}'.format(x.shape))\n",
    "        x=self.block2(x)\n",
    "        if self.verbose:\n",
    "            print('block 2 output:{}'.format(x.shape))\n",
    "        x=self.block3(x)\n",
    "        if self.verbose:\n",
    "            print('block 3 output:{}'.format(x.shape))\n",
    "        x=self.block4(x)\n",
    "        if self.verbose:\n",
    "            print('block 4 output:{}'.format(x.shape))\n",
    "        x=self.block5(x)\n",
    "        if self.verbose:\n",
    "            print('block 5 output:{}'.format(x.shape))\n",
    "        x=x.view(x.size(0),-1)\n",
    "        x=self.classfy(x)\n",
    "        if self.verbose:\n",
    "            print('class output:{}'.format(x.shape))\n",
    "        return x"
   ]
  },
  {
   "cell_type": "code",
   "execution_count": 5,
   "metadata": {},
   "outputs": [
    {
     "name": "stdout",
     "output_type": "stream",
     "text": [
      "torch.Size([1, 3, 96, 96])\n",
      "block 1 output:torch.Size([1, 64, 45, 45])\n",
      "block 2 output:torch.Size([1, 64, 22, 22])\n",
      "block 3 output:torch.Size([1, 128, 11, 11])\n",
      "block 4 output:torch.Size([1, 256, 6, 6])\n",
      "block 5 output:torch.Size([1, 512, 1, 1])\n",
      "class output:torch.Size([1, 10])\n"
     ]
    }
   ],
   "source": [
    "test_net=resnet(3,10,True)                             #做完一个板块就测试一个板块是否符合要求\n",
    "test_x=Variable(torch.rand(1,3,96,96))\n",
    "print(test_x.size())\n",
    "test_y=test_net(test_x)"
   ]
  },
  {
   "cell_type": "code",
   "execution_count": 6,
   "metadata": {},
   "outputs": [],
   "source": [
    "def data_tf(x):\n",
    "    x=x.resize((96,96),2)\n",
    "    x=np.array(x,dtype='float32')/32\n",
    "    x=(x-0.5)/0.5\n",
    "    x=x.transpose((2,0,1))\n",
    "    x=torch.from_numpy(x)\n",
    "    return x"
   ]
  },
  {
   "cell_type": "code",
   "execution_count": 7,
   "metadata": {},
   "outputs": [
    {
     "name": "stdout",
     "output_type": "stream",
     "text": [
      "Files already downloaded and verified\n",
      "Files already downloaded and verified\n"
     ]
    }
   ],
   "source": [
    "from torch.utils.data import DataLoader\n",
    "train_set=CIFAR10('./data',train=True,transform=data_tf,download=True)\n",
    "test_set=CIFAR10('./data',train=False,transform=data_tf,download=True)\n",
    "train_data=DataLoader(train_set,batch_size=64,shuffle=True)\n",
    "test_data=DataLoader(train_set,batch_size=64,shuffle=False)"
   ]
  },
  {
   "cell_type": "code",
   "execution_count": 8,
   "metadata": {},
   "outputs": [],
   "source": [
    "from datetime import datetime\n",
    "def get_acc(output, label):\n",
    "\n",
    "    total = output.shape[0]\n",
    "\n",
    "    _, pred_label = output.max(1)\n",
    "\n",
    "    num_correct = (pred_label == label).sum().item()\n",
    "\n",
    "    return num_correct / total\n",
    "\n",
    "def train(net, train_data, valid_data, num_epochs, optimizer, criterion):\n",
    "\n",
    "    if torch.cuda.is_available():\n",
    "\n",
    "        net = net.cuda()\n",
    "\n",
    "    prev_time = datetime.now()\n",
    "\n",
    "    for epoch in range(num_epochs):\n",
    "\n",
    "        train_loss = 0\n",
    "\n",
    "        train_acc = 0\n",
    "\n",
    "        net = net.train()\n",
    "\n",
    "        for im, label in train_data:\n",
    "\n",
    "            if torch.cuda.is_available():\n",
    "\n",
    "                im = Variable(im.cuda())  # (bs, 3, h, w)\n",
    "\n",
    "                label = Variable(label.cuda())  # (bs, h, w)\n",
    "\n",
    "            else:\n",
    "\n",
    "                im = Variable(im)\n",
    "\n",
    "                label = Variable(label)\n",
    "\n",
    "            # forward\n",
    "\n",
    "            output = net(im)\n",
    "\n",
    "            loss = criterion(output, label)\n",
    "\n",
    "            # backward\n",
    "\n",
    "            optimizer.zero_grad()\n",
    "\n",
    "            loss.backward()\n",
    "\n",
    "            optimizer.step()\n",
    "\n",
    "\n",
    "\n",
    "            train_loss += loss.item()\n",
    "\n",
    "            train_acc += get_acc(output, label)\n",
    "\n",
    "\n",
    "\n",
    "        cur_time = datetime.now()\n",
    "\n",
    "        h, remainder = divmod((cur_time - prev_time).seconds, 3600)\n",
    "\n",
    "        m, s = divmod(remainder, 60)\n",
    "\n",
    "        time_str = \"Time %02d:%02d:%02d\" % (h, m, s)\n",
    "\n",
    "        if valid_data is not None:\n",
    "\n",
    "            valid_loss = 0\n",
    "\n",
    "            valid_acc = 0\n",
    "\n",
    "            net = net.eval()\n",
    "\n",
    "            for im, label in valid_data:\n",
    "\n",
    "                if torch.cuda.is_available():\n",
    "\n",
    "                    im = Variable(im.cuda(), volatile=True)\n",
    "\n",
    "                    label = Variable(label.cuda(), volatile=True)\n",
    "\n",
    "                else:\n",
    "\n",
    "                    im = Variable(im, volatile=True)\n",
    "\n",
    "                    label = Variable(label, volatile=True)\n",
    "\n",
    "                output = net(im)\n",
    "\n",
    "                loss = criterion(output, label)\n",
    "\n",
    "                valid_loss += loss.item()\n",
    "\n",
    "                valid_acc += get_acc(output, label)\n",
    "\n",
    "            epoch_str = (\n",
    "\n",
    "                \"Epoch %d. Train Loss: %f, Train Acc: %f, Valid Loss: %f, Valid Acc: %f, \"\n",
    "\n",
    "                % (epoch, train_loss / len(train_data),\n",
    "\n",
    "                   train_acc / len(train_data), valid_loss / len(valid_data),\n",
    "\n",
    "                   valid_acc / len(valid_data)))\n",
    "\n",
    "        else:\n",
    "\n",
    "            epoch_str = (\"Epoch %d. Train Loss: %f, Train Acc: %f, \" %\n",
    "\n",
    "                         (epoch, train_loss / len(train_data),\n",
    "\n",
    "                          train_acc / len(train_data)))\n",
    "\n",
    "        prev_time = cur_time\n",
    "\n",
    "        print(epoch_str + time_str)"
   ]
  },
  {
   "cell_type": "code",
   "execution_count": 9,
   "metadata": {},
   "outputs": [],
   "source": [
    "net=resnet(3,10)\n",
    "optimizer=torch.optim.SGD(net.parameters(),lr=0.01)\n",
    "criterion=nn.CrossEntropyLoss()"
   ]
  },
  {
   "cell_type": "code",
   "execution_count": null,
   "metadata": {},
   "outputs": [
    {
     "name": "stderr",
     "output_type": "stream",
     "text": [
      "D:\\anaconda\\envs\\pytorch\\lib\\site-packages\\ipykernel_launcher.py:84: UserWarning: volatile was removed and now has no effect. Use `with torch.no_grad():` instead.\n",
      "D:\\anaconda\\envs\\pytorch\\lib\\site-packages\\ipykernel_launcher.py:86: UserWarning: volatile was removed and now has no effect. Use `with torch.no_grad():` instead.\n"
     ]
    },
    {
     "name": "stdout",
     "output_type": "stream",
     "text": [
      "Epoch 0. Train Loss: 1.355932, Train Acc: 0.507373, Valid Loss: 2.123440, Valid Acc: 0.269881, Time 00:02:09\n",
      "Epoch 1. Train Loss: 0.919471, Train Acc: 0.675991, Valid Loss: 0.986277, Valid Acc: 0.647838, Time 00:02:46\n",
      "Epoch 2. Train Loss: 0.688440, Train Acc: 0.760110, Valid Loss: 0.731440, Valid Acc: 0.734635, Time 00:02:47\n"
     ]
    }
   ],
   "source": [
    "train(net,train_data,test_data,20,optimizer,criterion)"
   ]
  },
  {
   "cell_type": "code",
   "execution_count": 10,
   "metadata": {},
   "outputs": [
    {
     "name": "stdout",
     "output_type": "stream",
     "text": [
      "Ture\n"
     ]
    }
   ],
   "source": [
    "if torch.cuda.is_available():\n",
    "    print('Ture')"
   ]
  },
  {
   "cell_type": "code",
   "execution_count": null,
   "metadata": {},
   "outputs": [],
   "source": []
  }
 ],
 "metadata": {
  "kernelspec": {
   "display_name": "Pytorch for Deeplearning",
   "language": "python",
   "name": "pytorch"
  },
  "language_info": {
   "codemirror_mode": {
    "name": "ipython",
    "version": 3
   },
   "file_extension": ".py",
   "mimetype": "text/x-python",
   "name": "python",
   "nbconvert_exporter": "python",
   "pygments_lexer": "ipython3",
   "version": "3.6.2"
  }
 },
 "nbformat": 4,
 "nbformat_minor": 2
}
